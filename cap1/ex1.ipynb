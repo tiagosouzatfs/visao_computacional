{
 "cells": [
  {
   "cell_type": "code",
   "execution_count": 1,
   "id": "0e843113",
   "metadata": {},
   "outputs": [],
   "source": [
    "import numpy as np\n",
    "import matplotlib.pyplot as plt\n",
    "import warnings"
   ]
  },
  {
   "cell_type": "code",
   "execution_count": 2,
   "id": "87de132f",
   "metadata": {},
   "outputs": [],
   "source": [
    "# Ignorar avisos do Matplotlib para evitar mensagens desnecessárias\n",
    "warnings.filterwarnings(\"ignore\", category=UserWarning, module=\"matplotlib\")"
   ]
  },
  {
   "cell_type": "code",
   "execution_count": 21,
   "id": "e4325f84",
   "metadata": {},
   "outputs": [
    {
     "name": "stdout",
     "output_type": "stream",
     "text": [
      "[[[0 0 0]\n",
      "  [0 0 0]\n",
      "  [0 0 0]\n",
      "  ...\n",
      "  [0 0 0]\n",
      "  [0 0 0]\n",
      "  [0 0 0]]\n",
      "\n",
      " [[0 0 0]\n",
      "  [0 0 0]\n",
      "  [0 0 0]\n",
      "  ...\n",
      "  [0 0 0]\n",
      "  [0 0 0]\n",
      "  [0 0 0]]\n",
      "\n",
      " [[0 0 0]\n",
      "  [0 0 0]\n",
      "  [0 0 0]\n",
      "  ...\n",
      "  [0 0 0]\n",
      "  [0 0 0]\n",
      "  [0 0 0]]\n",
      "\n",
      " ...\n",
      "\n",
      " [[0 0 0]\n",
      "  [0 0 0]\n",
      "  [0 0 0]\n",
      "  ...\n",
      "  [0 0 0]\n",
      "  [0 0 0]\n",
      "  [0 0 0]]\n",
      "\n",
      " [[0 0 0]\n",
      "  [0 0 0]\n",
      "  [0 0 0]\n",
      "  ...\n",
      "  [0 0 0]\n",
      "  [0 0 0]\n",
      "  [0 0 0]]\n",
      "\n",
      " [[0 0 0]\n",
      "  [0 0 0]\n",
      "  [0 0 0]\n",
      "  ...\n",
      "  [0 0 0]\n",
      "  [0 0 0]\n",
      "  [0 0 0]]]\n"
     ]
    }
   ],
   "source": [
    "# Criar uma imagem RGB com gradientes suaves\n",
    "img_rgb = np.zeros((256, 256, 3), dtype=np.uint8)  # Inicializa uma matriz de zeros (imagem preta) com 3 canais de cor (RGB)\n",
    "\n",
    "print(img_rgb)"
   ]
  },
  {
   "cell_type": "code",
   "execution_count": 4,
   "id": "6007c896",
   "metadata": {},
   "outputs": [],
   "source": [
    "# Preenchendo os canais de cor com gradientes:\n",
    "img_rgb[:, :, 0] = np.linspace(0, 255, 256, dtype=np.uint8).reshape((256, 1))  # Canal Vermelho (R): varia verticalmente\n",
    "img_rgb[:, :, 1] = np.linspace(0, 255, 256, dtype=np.uint8).reshape((1, 256))  # Canal Verde (G): varia horizontalmente\n",
    "img_rgb[:, :, 2] = np.flip(img_rgb[:, :, 1], axis=1)  # Canal Azul (B): inverso do verde, criando um gradiente oposto"
   ]
  },
  {
   "cell_type": "code",
   "execution_count": 5,
   "id": "8fa04f3b",
   "metadata": {},
   "outputs": [],
   "source": [
    "# Converter a imagem para tons de cinza usando apenas o canal verde\n",
    "img_grayscale = img_rgb[:, :, 1]  # Mantemos apenas os valores do canal verde"
   ]
  },
  {
   "cell_type": "code",
   "execution_count": 6,
   "id": "76da63a0",
   "metadata": {},
   "outputs": [],
   "source": [
    "# Criar uma imagem binária (thresholding) com limiar de 127\n",
    "img_binary = (img_grayscale > 127).astype(np.uint8) * 255  # Pixels acima do limiar tornam-se brancos (255), os demais pretos (0)"
   ]
  },
  {
   "cell_type": "code",
   "execution_count": 18,
   "id": "56b40177",
   "metadata": {},
   "outputs": [
    {
     "data": {
      "image/png": "[encoded data removed]",
      "text/plain": [
       "<Figure size 1200x400 with 3 Axes>"
      ]
     },
     "metadata": {},
     "output_type": "display_data"
    }
   ],
   "source": [
    "# Criar a figura com 3 subplots para exibir as diferentes representações da imagem\n",
    "fig, axes = plt.subplots(1, 3, figsize=(12, 4))  # Cria um layout de 1 linha e 3 colunas\n",
    "\n",
    "# Definição dos títulos e das imagens a serem exibidas\n",
    "titles = [\"RGB\", \"Grayscale (Canal Verde)\", \"Binária\"]\n",
    "images = [img_rgb, img_grayscale, img_binary]\n",
    "cmaps = [None, \"gray\", \"gray\"]  # Definição do colormap para cada imagem (apenas grayscale e binária precisam de escala cinza)\n",
    "\n",
    "\n",
    "\n",
    "# Loop para exibir as imagens nos subplots\n",
    "for ax, img, title, cmap in zip(axes, images, titles, cmaps):\n",
    "    ax.imshow(img, cmap=cmap)  # Mostra a imagem\n",
    "    ax.set_title(title)  # Define o título da imagem\n",
    "    ax.axis(\"off\")  # Remove os eixos para melhor visualização\n",
    "\n",
    "# Ajusta o espaçamento entre os gráficos para melhor exibição\n",
    "plt.tight_layout()\n",
    "plt.show()  # Exibe as imagens"
   ]
  }
 ],
 "metadata": {
  "kernelspec": {
   "display_name": "env",
   "language": "python",
   "name": "python3"
  },
  "language_info": {
   "codemirror_mode": {
    "name": "ipython",
    "version": 3
   },
   "file_extension": ".py",
   "mimetype": "text/x-python",
   "name": "python",
   "nbconvert_exporter": "python",
   "pygments_lexer": "ipython3",
   "version": "3.10.12"
  }
 },
 "nbformat": 4,
 "nbformat_minor": 5
}
